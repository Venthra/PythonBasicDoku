{
 "cells": [
  {
   "attachments": {},
   "cell_type": "markdown",
   "metadata": {},
   "source": [
    "# Variables and Operations\n",
    "> - Variables names cannot contain whitespaces.\n",
    "> - Variables names cannot start with a number.\n"
   ]
  },
  {
   "cell_type": "code",
   "execution_count": 1,
   "metadata": {},
   "outputs": [],
   "source": [
    "my_bool = True\n",
    "my_integer = 3\n",
    "my_float = 3.6\n",
    "my_string = \"Benjamin\""
   ]
  },
  {
   "cell_type": "markdown",
   "metadata": {},
   "source": [
    "## Arithmetical Operations"
   ]
  },
  {
   "cell_type": "code",
   "execution_count": 2,
   "metadata": {},
   "outputs": [],
   "source": [
    "value1 = 1\n",
    "value2 = 2\n",
    "value3 = 3\n",
    "\n",
    "result = value1 + value2\n",
    "result = value1 - value2\n",
    "result = value1 * value2\n",
    "result = value1 / value2                            # The result is always a float with “/”.\n",
    "result = value1 // value2                           # Variant to get an integer.\n",
    "result = value1 ** value2\n",
    "\n",
    "result = result + value3\n",
    "# Equivalent to:\n",
    "result += value3\n",
    "result -= value3\n",
    "result *= value3\n",
    "result /= value3"
   ]
  },
  {
   "cell_type": "markdown",
   "metadata": {},
   "source": [
    "## Logical Operations"
   ]
  },
  {
   "cell_type": "code",
   "execution_count": 3,
   "metadata": {},
   "outputs": [],
   "source": [
    "statement1 = True\n",
    "statement2 = False\n",
    "\n",
    "result = statement1 and statement2\n",
    "result = statement1 & statement2\n",
    "\n",
    "result = statement1 or statement2\n",
    "result = statement1 | statement2\n",
    "\n",
    "result = statement1 and not statement2\n",
    "result = statement1 or not statement2\n",
    "\n",
    "result = statement1 == statement2\n",
    "result = statement1 < statement2\n",
    "result = statement1 > statement2\n",
    "result = statement1 != statement2\n",
    "result = statement1 <= statement2\n",
    "result = statement1 >= statement2"
   ]
  },
  {
   "cell_type": "markdown",
   "metadata": {},
   "source": [
    "## Operator order\n",
    "\n",
    "> 1. Paranthesis: ()\n",
    "> 2. Comparison operators: <, >, <=, >=, ==, !=\n",
    "> 3. not\n",
    "> 4. and\n",
    "> 5. or"
   ]
  },
  {
   "cell_type": "code",
   "execution_count": null,
   "metadata": {},
   "outputs": [],
   "source": [
    "a = True\n",
    "b = False\n",
    "c = True\n",
    "\n",
    "check = a > b and c == a or not a and c\n",
    "print(check)\n",
    "\n",
    "check2 = ((a > b) and (c == a)) or ((not a) and c)  # Bracketing improves readability.\n",
    "print(check2)"
   ]
  },
  {
   "cell_type": "markdown",
   "metadata": {},
   "source": [
    "##  Methods of Variables\n",
    "\n",
    "> Almost everything is an object and is derived from classes."
   ]
  },
  {
   "cell_type": "code",
   "execution_count": null,
   "metadata": {},
   "outputs": [],
   "source": [
    "name = \"Benjamin Kluge\"\n",
    "\n",
    "print(name.replace(\"jamin\", \"ni\"))\n",
    "print(name.upper())\n",
    "print(name.lower())\n",
    "print(name.split(\" \"))\n",
    "print(name.count(\"n\"))\n",
    "print(name.find(\"ja\"))                              # \"0\" First postition \"-1\" If not found\n"
   ]
  },
  {
   "cell_type": "markdown",
   "metadata": {},
   "source": [
    "## f-String Formatting\n"
   ]
  },
  {
   "cell_type": "code",
   "execution_count": null,
   "metadata": {},
   "outputs": [],
   "source": [
    "name = \"Peter\"\n",
    "age = 31\n",
    "\n",
    "print(f\"Hello my name is {name} and I'm {age} years old.\")"
   ]
  }
 ],
 "metadata": {
  "kernelspec": {
   "display_name": "base",
   "language": "python",
   "name": "python3"
  },
  "language_info": {
   "codemirror_mode": {
    "name": "ipython",
    "version": 3
   },
   "file_extension": ".py",
   "mimetype": "text/x-python",
   "name": "python",
   "nbconvert_exporter": "python",
   "pygments_lexer": "ipython3",
   "version": "3.12.4"
  },
  "orig_nbformat": 4
 },
 "nbformat": 4,
 "nbformat_minor": 2
}
