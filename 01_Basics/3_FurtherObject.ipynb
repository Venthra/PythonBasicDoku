{
 "cells": [
  {
   "cell_type": "markdown",
   "metadata": {},
   "source": [
    "# Further Objects"
   ]
  },
  {
   "cell_type": "markdown",
   "metadata": {},
   "source": [
    "## [ List ]"
   ]
  },
  {
   "cell_type": "code",
   "execution_count": null,
   "metadata": {},
   "outputs": [],
   "source": [
    "list1 = [1, 2, 1, 4, 2, 3, 3]\n",
    "\n",
    "list1.append(4)                         # Add element at the end\n",
    "list1.pop(3)                            # Remove specific element\n",
    "list1[0] = 3                            # Update element\n",
    "print(\"Peter's grade: \", list1[0])"
   ]
  },
  {
   "cell_type": "markdown",
   "metadata": {},
   "source": [
    "## [ [ Multidimensional ] [ List ] ]"
   ]
  },
  {
   "cell_type": "code",
   "execution_count": null,
   "metadata": {},
   "outputs": [],
   "source": [
    "matrix = [[1, 2], [3, 4], [5, 6]]\n",
    "\n",
    "print(matrix)\n",
    "print(matrix[0])\n",
    "print(matrix[1][0])"
   ]
  },
  {
   "cell_type": "markdown",
   "metadata": {},
   "source": [
    "## { Set }\n",
    "> Mathematical {set} with unique elements."
   ]
  },
  {
   "cell_type": "code",
   "execution_count": null,
   "metadata": {},
   "outputs": [],
   "source": [
    "\n",
    "print(list1)\n",
    "\n",
    "set1 = set(list1)                       # Converts list to a set.\n",
    "print(set1)\n",
    "\n",
    "set2 = {4, 8, 9}\n",
    "print(set2)\n",
    "\n",
    "print(set1.intersection(set2))\n",
    "print(set1.union(set2))\n",
    "print(set1.difference(set2))"
   ]
  },
  {
   "cell_type": "markdown",
   "metadata": {},
   "source": [
    "## ( Tuple )\n",
    "> Fixed number of (any elements)\n",
    "\n",
    "> IMPORANT: The brackets alone do not define a tuple. The comma is part of it!"
   ]
  },
  {
   "cell_type": "code",
   "execution_count": null,
   "metadata": {},
   "outputs": [],
   "source": [
    "tuple_a = (2, True, \"hello\", 2)\n",
    "\n",
    "print(tuple_a.count(2))\n",
    "print(tuple_a.index(2))"
   ]
  },
  {
   "cell_type": "markdown",
   "metadata": {},
   "source": [
    "## { Dictionary }\n",
    "> { Key : Value } - Pair\n",
    "\n",
    "Types for the keys: bool, int, float, str, tuple, None (immutable types)  \n",
    "Types for the values: any type\n",
    "\n",
    "For each item, the dictionary calculates a hash of the key based on its content. If the value changes, the hash wil change.\n",
    "\n",
    "For immutable objects that's not a problem - their content can't change - but mutable objects could."
   ]
  },
  {
   "cell_type": "code",
   "execution_count": null,
   "metadata": {},
   "outputs": [],
   "source": [
    "students = {\"Benjamin\": 1, \"Michael\": 2, \"Peter\": 1, \"Fabian\": 4}\n",
    "\n",
    "student1 = students[\"Benjamin\"]          # Read element\n",
    "students[\"Benjamin\"] = 6                 # Write element\n",
    "students[\"Max\"] = 1                      # Add element\n",
    "students.pop(\"Max\")                      # Remove element\n",
    "\n",
    "for student_name in students:            # Get Keys\n",
    "    print(student_name)\n",
    "print(\"\")\n",
    "for student_grade in students.values():  # Get Values\n",
    "    print(student_grade)\n",
    "print(\"\")\n",
    "for key, value in students.items():      # Get Keys and Values\n",
    "    print(key, value)"
   ]
  },
  {
   "cell_type": "markdown",
   "metadata": {},
   "source": [
    "### Bonus: Dictionary Merge"
   ]
  },
  {
   "cell_type": "code",
   "execution_count": null,
   "metadata": {},
   "outputs": [],
   "source": [
    "teachers = {\"Georg\": 3, \"Martin\": 1}\n",
    "\n",
    "result_dict = students | teachers\n",
    "print(result_dict)"
   ]
  }
 ],
 "metadata": {
  "kernelspec": {
   "display_name": "base",
   "language": "python",
   "name": "python3"
  },
  "language_info": {
   "codemirror_mode": {
    "name": "ipython",
    "version": 3
   },
   "file_extension": ".py",
   "mimetype": "text/x-python",
   "name": "python",
   "nbconvert_exporter": "python",
   "pygments_lexer": "ipython3",
   "version": "3.12.4"
  }
 },
 "nbformat": 4,
 "nbformat_minor": 2
}
