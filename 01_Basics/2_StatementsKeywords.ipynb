{
 "cells": [
  {
   "cell_type": "markdown",
   "metadata": {},
   "source": [
    "# Statements and Keywords"
   ]
  },
  {
   "cell_type": "markdown",
   "metadata": {},
   "source": [
    "## If-Statement"
   ]
  },
  {
   "cell_type": "code",
   "execution_count": null,
   "metadata": {},
   "outputs": [],
   "source": [
    "my_age = 28\n",
    "\n",
    "if my_age < 18:\n",
    "    print(\"You are a child!\")\n",
    "elif my_age < 67:\n",
    "    print(\"You are an adult!\")\n",
    "else:\n",
    "    print(\"You are a pensioneer!\")"
   ]
  },
  {
   "cell_type": "markdown",
   "metadata": {},
   "source": [
    "## For-Loop\n",
    "> Mostly loops with known iterations."
   ]
  },
  {
   "cell_type": "code",
   "execution_count": null,
   "metadata": {},
   "outputs": [],
   "source": [
    "grades = [1, 2, 1, 4]\n",
    "\n",
    "for grade in grades:                                    # \"For each ... in ... do:\"\n",
    "    print(grade)\n",
    "\n",
    "print(\"\")\n",
    "\n",
    "for idx in range(len(grades)):                          # range(  -  , stop (excl.),  -  ) is default\n",
    "    print(grades[idx])\n",
    "\n",
    "print(\"\")\n",
    "\n",
    "for idx in range(0, 10, 2):                             # range(start, stop (excl.), step)\n",
    "    print(idx)"
   ]
  },
  {
   "cell_type": "markdown",
   "metadata": {},
   "source": [
    "## While-Loop\n",
    "> Mostly loops with unknown iterations"
   ]
  },
  {
   "cell_type": "code",
   "execution_count": null,
   "metadata": {},
   "outputs": [],
   "source": [
    "anything = 500.0\n",
    "\n",
    "while anything > 0.0:\n",
    "    anything -= 100.0\n",
    "    print(anything)"
   ]
  },
  {
   "cell_type": "markdown",
   "metadata": {},
   "source": [
    "## Pattern Matching\n"
   ]
  },
  {
   "cell_type": "code",
   "execution_count": null,
   "metadata": {},
   "outputs": [],
   "source": [
    "guess = 5\n",
    "\n",
    "match guess:\n",
    "    case guess if guess < 0:\n",
    "        print(f\"{guess} is not valid!\")\n",
    "    case 2:\n",
    "        print(f\"{guess} is close!\")\n",
    "    case 4:\n",
    "        print(f\"{guess} is correct!\")\n",
    "    case 7 | 8 | 9:\n",
    "        print(f\"{guess} is close!\")\n",
    "    case _:                                             # _ = Default\n",
    "        print(f\"{guess} is not the correct value!\")"
   ]
  },
  {
   "cell_type": "markdown",
   "metadata": {},
   "source": [
    "## Keywords\n",
    "> break, continue, pass, None"
   ]
  },
  {
   "cell_type": "code",
   "execution_count": null,
   "metadata": {},
   "outputs": [],
   "source": [
    "l1 = [1, 2, 3, 4, 5]\n",
    "\n",
    "for value in l1:\n",
    "    if value > 3:\n",
    "        break                                           # Cancels entire loop.\n",
    "    print(value)\n",
    "\n",
    "print(\"\")\n",
    "\n",
    "for value in l1:\n",
    "    if value % 2 == 0:\n",
    "        continue                                        # Cancels the current iteration of the loop.\n",
    "    print(value)\n",
    "\n",
    "for value in l1:\n",
    "    pass                                                # Clearly marked placeholder to keep the program running.\n",
    "\n",
    "print(\"\")\n",
    "\n",
    "value = None                                            # Can be used for initialization.\n",
    "print(value)"
   ]
  }
 ],
 "metadata": {
  "kernelspec": {
   "display_name": "base",
   "language": "python",
   "name": "python3"
  },
  "language_info": {
   "codemirror_mode": {
    "name": "ipython",
    "version": 3
   },
   "file_extension": ".py",
   "mimetype": "text/x-python",
   "name": "python",
   "nbconvert_exporter": "python",
   "pygments_lexer": "ipython3",
   "version": "3.12.4"
  }
 },
 "nbformat": 4,
 "nbformat_minor": 2
}
