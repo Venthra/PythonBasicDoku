{
 "cells": [
  {
   "cell_type": "markdown",
   "metadata": {},
   "source": [
    "# Functions and Libraries"
   ]
  },
  {
   "cell_type": "markdown",
   "metadata": {},
   "source": [
    "## Function\n",
    "> If no special return value is specified, something is still returned! Each function has a return value (usually None)."
   ]
  },
  {
   "cell_type": "code",
   "execution_count": 13,
   "metadata": {},
   "outputs": [
    {
     "name": "stdout",
     "output_type": "stream",
     "text": [
      "8\n",
      "None\n"
     ]
    }
   ],
   "source": [
    "def list_max(input_list):                       # Definition Name (Parameter)\n",
    "\n",
    "    max_value = input_list[0]                   #\n",
    "                                                #\n",
    "    for i in range(1, len(input_list)):         #\n",
    "        if input_list[i] > max_value:           # Executable code\n",
    "            max_value = input_list[i]           #\n",
    "                                                #\n",
    "    print(max_value)                            #\n",
    "\n",
    "\n",
    "list1 = [-20, 3, 5, -13, 8, -19]\n",
    "\n",
    "return_value = list_max(list1)                  # Method call (Argument)\n",
    "\n",
    "print(return_value)"
   ]
  },
  {
   "cell_type": "markdown",
   "metadata": {},
   "source": [
    "## Function (with default value)"
   ]
  },
  {
   "cell_type": "code",
   "execution_count": 8,
   "metadata": {},
   "outputs": [
    {
     "name": "stdout",
     "output_type": "stream",
     "text": [
      "default\n",
      "This is a massage\n"
     ]
    }
   ],
   "source": [
    "def print_anything (my_sting = \"default\"):\n",
    "    print(my_sting)\n",
    "\n",
    "print_anything()\n",
    "print_anything(\"This is a massage\")"
   ]
  },
  {
   "cell_type": "markdown",
   "metadata": {},
   "source": [
    "## Importing Libraries\n",
    ">Importing other libraries or your own python files to be able to use the functions and classes they contain."
   ]
  },
  {
   "cell_type": "code",
   "execution_count": 9,
   "metadata": {},
   "outputs": [
    {
     "name": "stdout",
     "output_type": "stream",
     "text": [
      "5\n",
      "1\n",
      "3.0\n",
      "3.0\n",
      "(5,)\n",
      "4\n",
      "1\n",
      "2.5\n",
      "2.5\n",
      "(2, 2)\n"
     ]
    }
   ],
   "source": [
    "import numpy as np                              # type: ignore\n",
    "                                                # Library with abbreviation \"as\" a simplification\n",
    "vec = np.array([1, 2, 3, 4, 5])\n",
    "print(np.max(vec))\n",
    "print(np.min(vec))\n",
    "print(np.median(vec))\n",
    "print(np.mean(vec))\n",
    "print(vec.shape)\n",
    "\n",
    "matrix = np.array([[1, 2], [3, 4]])\n",
    "print(np.max(matrix))\n",
    "print(np.min(matrix))\n",
    "print(np.median(matrix))\n",
    "print(np.mean(matrix))\n",
    "print(matrix.shape)"
   ]
  },
  {
   "cell_type": "code",
   "execution_count": 10,
   "metadata": {},
   "outputs": [],
   "source": [
    "# from \"mypythondatei\" import \"function\" (as ...) "
   ]
  },
  {
   "cell_type": "markdown",
   "metadata": {},
   "source": [
    "## Bonus: Main Function (Implementation)\n",
    "> Simulation of a main function using the “dunder” method."
   ]
  },
  {
   "cell_type": "code",
   "execution_count": 11,
   "metadata": {},
   "outputs": [
    {
     "name": "stdout",
     "output_type": "stream",
     "text": [
      "I'm the main function\n"
     ]
    }
   ],
   "source": [
    "def main():\n",
    "    # code code code\n",
    "    print(\"I'm the main function\")\n",
    "    # code code code\n",
    "\n",
    "\n",
    "if __name__ == \"__main__\":              # If-Statement whether the current python file was executed as the initial \"main\" file.\n",
    "    main()"
   ]
  },
  {
   "cell_type": "markdown",
   "metadata": {},
   "source": [
    "## Bonus: Type Annotations\n",
    "> Addition of variable types for different purposes. (readability, maintainability, early error detection)"
   ]
  },
  {
   "cell_type": "code",
   "execution_count": 12,
   "metadata": {},
   "outputs": [],
   "source": [
    "def function(a: int) -> int:                        # Input parameter : Integer\n",
    "    pass                                            # Output value -> Integer\n",
    "\n",
    "def function2(a: float) -> float:\n",
    "    pass\n",
    "\n",
    "def function3(a: str) -> str:\n",
    "    pass\n",
    "\n",
    "def function4(a: int | float) -> int | float:       # Input parameter : Integer or Float\n",
    "    pass                                            # Output value -> Integer or Float\n",
    "\n",
    "def function5(a: int) -> None:\n",
    "    pass"
   ]
  }
 ],
 "metadata": {
  "kernelspec": {
   "display_name": "base",
   "language": "python",
   "name": "python3"
  },
  "language_info": {
   "codemirror_mode": {
    "name": "ipython",
    "version": 3
   },
   "file_extension": ".py",
   "mimetype": "text/x-python",
   "name": "python",
   "nbconvert_exporter": "python",
   "pygments_lexer": "ipython3",
   "version": "3.12.4"
  }
 },
 "nbformat": 4,
 "nbformat_minor": 2
}
