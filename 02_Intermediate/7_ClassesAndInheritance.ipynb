{
 "cells": [
  {
   "cell_type": "markdown",
   "metadata": {},
   "source": [
    "# Classes and Inheritance"
   ]
  },
  {
   "cell_type": "code",
   "execution_count": null,
   "metadata": {},
   "outputs": [],
   "source": [
    "class Animal:                                   # Definition of the class and its name\n",
    "    def __init__(self, weight, height):         # __init__ > Parameter required when initializing an instance.\n",
    "        self.weight = weight                    # Passing the parameters to the instantiated class\n",
    "        self.height = height\n",
    "\n",
    "    def print_data(self):                       # Definition of a method that the class can use\n",
    "        print(\"Height: \", self.height)\n",
    "        print(\"Weight: \", self.weight)\n",
    "\n",
    "\n",
    "class Dog(Animal):                              # Definition of the class and its name with inheritance\n",
    "    def __init__(self, weight, height):\n",
    "        super().__init__(weight, height)        # Transfer of the initial parameters to the parent class\n",
    "\n",
    "    def bark(self):\n",
    "        print(\"Bark!\")\n",
    "\n",
    "\n",
    "class Cat(Animal):\n",
    "    def __init__(self, weight=0, height=0):      # Definition of the class and its name with inheritance. Here with default values.\n",
    "        super().__init__(weight, height)\n",
    "\n",
    "    def meow(self):\n",
    "        print(\"Meow!\")\n",
    "\n",
    "\n",
    "dog = Dog(10, 0.8)                              # Creation of a new class instance with own arguments.\n",
    "dog.print_data()\n",
    "dog.bark()\n",
    "\n",
    "cat = Cat()                                     # Creation of a new class instance with default arguments\n",
    "cat.print_data()\n",
    "cat.meow()\n",
    "\n",
    "cat2 = Cat(weight=4, height=3)                  # Creation of a new class instance with overwritten default arguments\n",
    "cat2.print_data()                               # Parameter name specification not necessary but increases the readability of the code.\n",
    "cat2.meow()"
   ]
  }
 ],
 "metadata": {
  "kernelspec": {
   "display_name": "base",
   "language": "python",
   "name": "python3"
  },
  "language_info": {
   "codemirror_mode": {
    "name": "ipython",
    "version": 3
   },
   "file_extension": ".py",
   "mimetype": "text/x-python",
   "name": "python",
   "nbconvert_exporter": "python",
   "pygments_lexer": "ipython3",
   "version": "3.12.4"
  }
 },
 "nbformat": 4,
 "nbformat_minor": 2
}
