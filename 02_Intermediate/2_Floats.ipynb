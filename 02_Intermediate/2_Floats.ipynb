{
 "cells": [
  {
   "cell_type": "markdown",
   "metadata": {},
   "source": [
    "# Floats (Deep Dive)\n"
   ]
  },
  {
   "cell_type": "markdown",
   "metadata": {},
   "source": [
    "> - [C/C++/Java] Float = 32bits/4Byte, Double = 64bits/8Byte\n",
    "\n",
    "> - [Python] Float = 64bits/8Byte\n",
    "> - sign: 1bit  \n",
    "> - exponent: 11bits  \n",
    "> - significant bits: 52bits\n"
   ]
  },
  {
   "cell_type": "code",
   "execution_count": 1,
   "metadata": {},
   "outputs": [],
   "source": [
    "import math\n",
    "import sys"
   ]
  },
  {
   "cell_type": "code",
   "execution_count": null,
   "metadata": {},
   "outputs": [],
   "source": [
    "def float_print(value: float) -> None:\n",
    "    print(f\"Stored value: {value:.32f}\")\n",
    "\n",
    "my_value = 42.3\n",
    "\n",
    "print(f\"Size of Float 42.3 = {sys.getsizeof(my_value)} Byte\")\n",
    "print(f\"Assigned value: {my_value}\")\n",
    "float_print(my_value)"
   ]
  },
  {
   "cell_type": "markdown",
   "metadata": {},
   "source": [
    "# Float equality\n",
    "> Avoid a direct comparison."
   ]
  },
  {
   "cell_type": "code",
   "execution_count": null,
   "metadata": {},
   "outputs": [],
   "source": [
    "fraction1 = 1/100\n",
    "fraction2 = (1 / 10) + (1 / 10) + (1 / 10)\n",
    "fraction3 = 0.3\n",
    "\n",
    "float_print(fraction1)\n",
    "print(\"\")\n",
    "float_print(fraction2)\n",
    "float_print(fraction3)\n",
    "print(f\"Fraction2 == Fraction3? {bool(fraction2 == fraction3)}!\")\n",
    "\n",
    "print(f\"  Difference: {float(0.30000000000000004440892098500626 - 0.29999999999999998889776975374843)}\")"
   ]
  },
  {
   "cell_type": "markdown",
   "metadata": {},
   "source": [
    "> If necessary compare using an additional function."
   ]
  },
  {
   "cell_type": "code",
   "execution_count": null,
   "metadata": {},
   "outputs": [],
   "source": [
    "def float_is_equal(x: float, y: float) -> bool:\n",
    "\n",
    "    epsilon = 1e-15\n",
    "    difference = math.fabs(x - y)\n",
    "    return difference < epsilon\n",
    "\n",
    "\n",
    "epsilon = 1e-15\n",
    "print(f\"{epsilon:.32f}\")"
   ]
  },
  {
   "cell_type": "code",
   "execution_count": null,
   "metadata": {},
   "outputs": [],
   "source": [
    "print(float_is_equal(fraction2, fraction3))\n",
    "\n",
    "print(math.isclose(fraction2, fraction3, abs_tol=1e-15, rel_tol=1e-09,))        # Existing function in the \"math\" library."
   ]
  },
  {
   "cell_type": "markdown",
   "metadata": {},
   "source": [
    "# Float Rounding\n"
   ]
  },
  {
   "cell_type": "code",
   "execution_count": null,
   "metadata": {},
   "outputs": [],
   "source": [
    "my_float = 442.4242424242\n",
    "\n",
    "float_print(my_float)\n",
    "print(\"\")\n",
    "float_print(round(my_float, 3))\n",
    "float_print(round(my_float, 2))\n",
    "float_print(round(my_float, 1))\n",
    "float_print(round(my_float))\n",
    "float_print(round(my_float, -1))\n",
    "float_print(round(my_float, -2))\n",
    "float_print(round(my_float, -3))"
   ]
  }
 ],
 "metadata": {
  "kernelspec": {
   "display_name": "base",
   "language": "python",
   "name": "python3"
  },
  "language_info": {
   "codemirror_mode": {
    "name": "ipython",
    "version": 3
   },
   "file_extension": ".py",
   "mimetype": "text/x-python",
   "name": "python",
   "nbconvert_exporter": "python",
   "pygments_lexer": "ipython3",
   "version": "3.12.4"
  },
  "orig_nbformat": 4
 },
 "nbformat": 4,
 "nbformat_minor": 2
}
