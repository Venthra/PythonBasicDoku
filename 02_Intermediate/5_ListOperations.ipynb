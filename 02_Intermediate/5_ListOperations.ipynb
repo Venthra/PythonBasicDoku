{
 "cells": [
  {
   "cell_type": "markdown",
   "metadata": {},
   "source": [
    "# List Operations\n",
    "Comprehentions, Slicing, Enumerate and zip"
   ]
  },
  {
   "cell_type": "markdown",
   "metadata": {},
   "source": [
    "## Comprehentions\n",
    "> Simplifies the creation of a list via a loop with contained content logic"
   ]
  },
  {
   "cell_type": "code",
   "execution_count": 25,
   "metadata": {},
   "outputs": [],
   "source": [
    "# Possible way to build lists (cumbersome)\n",
    "\n",
    "list_1 = [1, 2, 3, 4, 5 ,6 ,7 ,8 ,9]\n",
    "\n",
    "list_2 = []\n",
    "\n",
    "for _i in range(100):\n",
    "     list_2.append(5)"
   ]
  },
  {
   "cell_type": "code",
   "execution_count": null,
   "metadata": {},
   "outputs": [],
   "source": [
    "# Easier way via a list comprehention.\n",
    "\n",
    "list_c1 = [i * 2 - 1 for i in range(1, 10)]\n",
    "\n",
    "print(list_c1)\n",
    "\n",
    "list_c2 = [i * 2 for i in range(1, 10)]\n",
    "\n",
    "print(list_c2)"
   ]
  },
  {
   "cell_type": "code",
   "execution_count": null,
   "metadata": {},
   "outputs": [],
   "source": [
    "list_c3 = [i for i in range(5) if (i < 3)]\n",
    "\n",
    "print(list_c3)"
   ]
  },
  {
   "cell_type": "markdown",
   "metadata": {},
   "source": [
    "### Multidimensional List Comprehention"
   ]
  },
  {
   "cell_type": "code",
   "execution_count": null,
   "metadata": {},
   "outputs": [],
   "source": [
    "num_rows = 3\n",
    "num_cols = 2\n",
    "\n",
    "matrix = [[(i * num_cols + j) + 1 for j in range(num_cols)] for i in range(num_rows)]\n",
    "\n",
    "print(matrix)"
   ]
  },
  {
   "cell_type": "markdown",
   "metadata": {},
   "source": [
    "## Slicing\n",
    "> Possibility to cut up a list or a set etc. according to certain requirements."
   ]
  },
  {
   "cell_type": "code",
   "execution_count": null,
   "metadata": {},
   "outputs": [],
   "source": [
    "list_s = list_c1[0:3:1]  # Start, Stop (Excludet), Step\n",
    "\n",
    "print(list_s)\n",
    "\n",
    "list_s[0] = -100\n",
    "\n",
    "print(list_c1)\n",
    "print(list_s)"
   ]
  },
  {
   "cell_type": "markdown",
   "metadata": {},
   "source": [
    "## Enumerate and Zip"
   ]
  },
  {
   "cell_type": "code",
   "execution_count": null,
   "metadata": {},
   "outputs": [],
   "source": [
    "list_a = [4, 2, -1]\n",
    "list_b = [True, False, True]\n",
    "\n",
    "\n",
    "for val_a, val_b in zip(list_a, list_b):                        # Connects both lists like a zipper and outputs the “value pairs”.(For multiple iterables)\n",
    "    print(val_a, val_b)\n",
    "print(\"\")\n",
    "\n",
    "\n",
    "for idx, val in enumerate(list_a):                              # Returns the value and corresponding index in its plac\n",
    "    print(idx, val)\n",
    "print(\"\")\n",
    "\n",
    "\n",
    "for idx, (val_a, val_b) in enumerate(zip(list_a, list_b)):      # Index and values for multiple iterables\n",
    "    print(idx, val_a, val_b)"
   ]
  }
 ],
 "metadata": {
  "kernelspec": {
   "display_name": "base",
   "language": "python",
   "name": "python3"
  },
  "language_info": {
   "codemirror_mode": {
    "name": "ipython",
    "version": 3
   },
   "file_extension": ".py",
   "mimetype": "text/x-python",
   "name": "python",
   "nbconvert_exporter": "python",
   "pygments_lexer": "ipython3",
   "version": "3.12.4"
  }
 },
 "nbformat": 4,
 "nbformat_minor": 2
}
