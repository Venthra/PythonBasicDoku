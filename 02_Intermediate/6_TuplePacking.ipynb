{
 "cells": [
  {
   "cell_type": "markdown",
   "metadata": {},
   "source": [
    "# Tuple Packing & Unpacking\n",
    "\n",
    "Splitting the tuple values into different variables."
   ]
  },
  {
   "cell_type": "code",
   "execution_count": null,
   "metadata": {},
   "outputs": [],
   "source": [
    "my_tuple = (42, 2.3, False, None)\n",
    "\n",
    "# Unpacking\n",
    "\n",
    "my_int, my_float, my_bool, my_none = my_tuple\n",
    "\n",
    "# Unpacking with deliberate loss of value. ( _ is a common wildcard)\n",
    "\n",
    "my_int2, _, my_bool2, _ = my_tuple\n",
    "\n",
    "# Unpacking with packing two values in a new list.\n",
    "\n",
    "my_int3, my_float3, *packed_tuple = my_tuple\n",
    "\n",
    "\n",
    "print(my_tuple)\n",
    "print(my_int)\n",
    "print(_)\n",
    "print(packed_tuple)"
   ]
  }
 ],
 "metadata": {
  "kernelspec": {
   "display_name": "base",
   "language": "python",
   "name": "python3"
  },
  "language_info": {
   "codemirror_mode": {
    "name": "ipython",
    "version": 3
   },
   "file_extension": ".py",
   "mimetype": "text/x-python",
   "name": "python",
   "nbconvert_exporter": "python",
   "pygments_lexer": "ipython3",
   "version": "3.12.4"
  }
 },
 "nbformat": 4,
 "nbformat_minor": 2
}
