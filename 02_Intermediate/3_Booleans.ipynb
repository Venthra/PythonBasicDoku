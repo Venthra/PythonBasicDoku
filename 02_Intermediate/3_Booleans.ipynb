{
 "cells": [
  {
   "cell_type": "markdown",
   "metadata": {},
   "source": [
    "# Booleans (Deep Dive)\n"
   ]
  },
  {
   "cell_type": "code",
   "execution_count": 1,
   "metadata": {},
   "outputs": [],
   "source": [
    "import sys\n",
    "from typing import Any\n"
   ]
  },
  {
   "cell_type": "code",
   "execution_count": null,
   "metadata": {},
   "outputs": [],
   "source": [
    "my_bool = False\n",
    "\n",
    "print(f\"Memory space of a bool     =    {sys.getsizeof(my_bool)} Byte \\n\")\n",
    "print(f\"Is Bool a subclass of Integer?  {issubclass(bool, int)}\")\n",
    "print(f\"Is True an instance of Bool?    {isinstance(True, bool)}\")\n",
    "print(f\"Is False an instance of Bool?   {isinstance(False, bool)}\")\n",
    "print(f\"Is 1 an instance of Bool?       {isinstance(1, bool)}\")\n",
    "print(f\"Is 0 an instance of Bool?       {isinstance(0, bool)}\")\n"
   ]
  },
  {
   "cell_type": "markdown",
   "metadata": {},
   "source": [
    "### Is vs. Equal\n",
    "\n",
    "> 'is' and 'is not': memory (address) equality\n",
    "\n",
    "> '==' and '!=': value equality\n",
    "\n",
    "> Is: Identity operator (memory adresses)\n",
    "\n",
    "> Value Equality: Operator to compare object values\n"
   ]
  },
  {
   "cell_type": "code",
   "execution_count": null,
   "metadata": {},
   "outputs": [],
   "source": [
    "my_bool = True\n",
    "my_int = 1\n",
    "\n",
    "print(my_bool == my_int)            # German: \"Das Gleiche\"\n",
    "print(my_bool is my_int)            # German: \"Das Selbe\"\n",
    "print(my_bool is True)\n",
    "print(my_bool is None)\n"
   ]
  },
  {
   "cell_type": "markdown",
   "metadata": {},
   "source": [
    "### Boolean Evaluation\n",
    "\n",
    "> Every object of a built-in type has a Truth Value.\n",
    "> An instance is True if it is not: None, False, 0, or empty.\n"
   ]
  },
  {
   "cell_type": "code",
   "execution_count": null,
   "metadata": {},
   "outputs": [],
   "source": [
    "def print_truth_value(var: Any) -> None:\n",
    "    print(bool(var))\n",
    "\n",
    "value1 = None\n",
    "value2 = 0\n",
    "value3 = False\n",
    "value4 = []\n",
    "\n",
    "value5 = 1\n",
    "value6 = True\n",
    "value7 = [1]\n",
    "\n",
    "print_truth_value(value1)\n",
    "print_truth_value(value2)\n",
    "print_truth_value(value3)\n",
    "print_truth_value(value4)\n",
    "print(\"\")\n",
    "print_truth_value(value5)\n",
    "print_truth_value(value6)\n",
    "print_truth_value(value7)"
   ]
  },
  {
   "cell_type": "markdown",
   "metadata": {},
   "source": [
    "### Boolean Shortcuts\n",
    "> Create the logical statement so that even the first value is decisive."
   ]
  },
  {
   "cell_type": "code",
   "execution_count": 5,
   "metadata": {},
   "outputs": [],
   "source": [
    "def func_a(a: bool) -> bool:\n",
    "    print(\"Called func_a\")\n",
    "    return a\n",
    "\n",
    "def func_b(b: bool) -> bool:\n",
    "    print(\"Called func_b\")\n",
    "    return b"
   ]
  },
  {
   "cell_type": "code",
   "execution_count": null,
   "metadata": {},
   "outputs": [],
   "source": [
    "A = False\n",
    "B = True\n",
    "\n",
    "if func_a(A) and func_b(B):\n",
    "    print(\"func_a(A) and func_b(B) => True\")"
   ]
  },
  {
   "cell_type": "code",
   "execution_count": null,
   "metadata": {},
   "outputs": [],
   "source": [
    "A = True\n",
    "B = True\n",
    "\n",
    "if func_a(A) and func_b(B):\n",
    "    print(\"func_a(A) and func_b(B) => True\")"
   ]
  }
 ],
 "metadata": {
  "file_extension": ".py",
  "kernelspec": {
   "display_name": "base",
   "language": "python",
   "name": "python3"
  },
  "language_info": {
   "codemirror_mode": {
    "name": "ipython",
    "version": 3
   },
   "file_extension": ".py",
   "mimetype": "text/x-python",
   "name": "python",
   "nbconvert_exporter": "python",
   "pygments_lexer": "ipython3",
   "version": "3.12.4"
  },
  "mimetype": "text/x-python",
  "name": "python",
  "npconvert_exporter": "python",
  "orig_nbformat": 2,
  "pygments_lexer": "ipython3",
  "version": 3
 },
 "nbformat": 4,
 "nbformat_minor": 2
}
