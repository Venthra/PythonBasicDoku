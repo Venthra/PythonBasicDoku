{
 "cells": [
  {
   "cell_type": "markdown",
   "metadata": {},
   "source": [
    "# Strings (Deep Dive)\n",
    "> Strings are immutable types and each character points to a seperate adress.\n",
    ">\n",
    "> The addresses are already known and reserved when the program starts."
   ]
  },
  {
   "cell_type": "code",
   "execution_count": 16,
   "metadata": {},
   "outputs": [],
   "source": [
    "from typing import Any\n",
    "\n",
    "def memory_address(var: Any) -> Any:\n",
    "    return hex(id(var) % 0xFFFFF)\n",
    "\n",
    "def print_string_info(st: str) -> None:\n",
    "    print(f\"String address: {memory_address(st)}\")\n",
    "\n",
    "    for val in st:\n",
    "        print(f\"Val: {memory_address(val)}\")\n",
    "\n",
    "    print(\"\\n\")"
   ]
  },
  {
   "cell_type": "code",
   "execution_count": null,
   "metadata": {},
   "outputs": [],
   "source": [
    "my_name = \"Benjamin\"\n",
    "\n",
    "print(my_name)\n",
    "print_string_info(my_name)"
   ]
  },
  {
   "cell_type": "code",
   "execution_count": null,
   "metadata": {},
   "outputs": [],
   "source": [
    "alphabet = \"abcdefg\"\n",
    "\n",
    "print_string_info(alphabet)"
   ]
  },
  {
   "cell_type": "markdown",
   "metadata": {},
   "source": [
    "### Bonus: String Slicing\n",
    ">(See Chapter 02.5 ListOperations)"
   ]
  },
  {
   "cell_type": "code",
   "execution_count": null,
   "metadata": {},
   "outputs": [],
   "source": [
    "my_new_name = my_name[2:5:1]\n",
    "\n",
    "print(my_new_name)\n",
    "print_string_info(my_new_name)"
   ]
  }
 ],
 "metadata": {
  "file_extension": ".py",
  "kernelspec": {
   "display_name": "base",
   "language": "python",
   "name": "python3"
  },
  "language_info": {
   "codemirror_mode": {
    "name": "ipython",
    "version": 3
   },
   "file_extension": ".py",
   "mimetype": "text/x-python",
   "name": "python",
   "nbconvert_exporter": "python",
   "pygments_lexer": "ipython3",
   "version": "3.12.4"
  },
  "mimetype": "text/x-python",
  "name": "python",
  "npconvert_exporter": "python",
  "orig_nbformat": 2,
  "pygments_lexer": "ipython3",
  "version": 3
 },
 "nbformat": 4,
 "nbformat_minor": 2
}
