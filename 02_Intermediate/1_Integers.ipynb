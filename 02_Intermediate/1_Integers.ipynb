{
 "cells": [
  {
   "cell_type": "markdown",
   "metadata": {},
   "source": [
    "# Integers (Deep Dive)\n"
   ]
  },
  {
   "cell_type": "markdown",
   "metadata": {},
   "source": [
    "> - [C/C++/Java] int = 32bit/4Byte\n",
    "\n",
    "> - [Python] int object uses a variable number of bits\n"
   ]
  },
  {
   "cell_type": "code",
   "execution_count": 37,
   "metadata": {},
   "outputs": [],
   "source": [
    "import math\n",
    "import sys"
   ]
  },
  {
   "cell_type": "code",
   "execution_count": null,
   "metadata": {},
   "outputs": [],
   "source": [
    "my_value = 3\n",
    "print(f\"Size of Integer 3     = {sys.getsizeof(my_value)} Byte\")\n",
    "\n",
    "my_value2 = 2**64\n",
    "print(f\"Size of Integer 2^64  = {sys.getsizeof(my_value2)} Byte\")"
   ]
  },
  {
   "cell_type": "markdown",
   "metadata": {},
   "source": [
    "## Float as Integer\n",
    "> Explicit conversion leads to a loss of information. (\"casting\") \n"
   ]
  },
  {
   "cell_type": "code",
   "execution_count": null,
   "metadata": {},
   "outputs": [],
   "source": [
    "my_float = 23.8\n",
    "my_int = int(my_float)\n",
    "\n",
    "print(f\"{my_float} becomes: {my_int} \")"
   ]
  },
  {
   "cell_type": "markdown",
   "metadata": {},
   "source": [
    "## (To-) Integer Rounding\n",
    "\n",
    "> - floor (abrunden)\n",
    "> - ceil (aufrunden)\n",
    "\n",
    "> Note the difference between positive and negative values."
   ]
  },
  {
   "cell_type": "code",
   "execution_count": null,
   "metadata": {},
   "outputs": [],
   "source": [
    "my_float2 = 2.7\n",
    "print(my_float2)\n",
    "\n",
    "my_int2 = math.floor(my_float2)\n",
    "print(my_int2)\n",
    "\n",
    "my_int3 = math.ceil(my_float2)\n",
    "print(my_int3)"
   ]
  },
  {
   "cell_type": "code",
   "execution_count": null,
   "metadata": {},
   "outputs": [],
   "source": [
    "my_float3 = -2.7\n",
    "print(my_float3)\n",
    "\n",
    "my_int4 = math.floor(my_float3)\n",
    "print(my_int4)\n",
    "\n",
    "my_int5 = math.ceil(my_float3)\n",
    "print(my_int5)"
   ]
  },
  {
   "cell_type": "markdown",
   "metadata": {},
   "source": [
    "## Integer Bases\n",
    "\n",
    "> - decimal: base 10\n",
    "> - binary: base 2\n",
    "> - hex: base 16\n"
   ]
  },
  {
   "cell_type": "code",
   "execution_count": null,
   "metadata": {},
   "outputs": [],
   "source": [
    "my_decimal = int(\"42\", base=10)\n",
    "print(f\"Value 1: {my_decimal}\")\n",
    "\n",
    "my_hexadecimal = int(\"42\", base=16)\n",
    "print(f\"Value 2: {my_hexadecimal}\")\n",
    "\n",
    "my_binary = int(\"101010\", base=2)\n",
    "print(f\"Value 3: {my_binary}\")\n",
    "\n",
    "my_binary2 = int(\"0b101010\", base=0)\n",
    "print(f\"Value 4: {my_binary2}\")\n",
    "\n",
    "my_binary3 = 0b101010\n",
    "print(f\"Value 5: {my_binary3}\")\n",
    "\n",
    "my_hex2 = 0x44\n",
    "print(f\"Value 6: {my_hex2}\")"
   ]
  }
 ],
 "metadata": {
  "kernelspec": {
   "display_name": "base",
   "language": "python",
   "name": "python3"
  },
  "language_info": {
   "codemirror_mode": {
    "name": "ipython",
    "version": 3
   },
   "file_extension": ".py",
   "mimetype": "text/x-python",
   "name": "python",
   "nbconvert_exporter": "python",
   "pygments_lexer": "ipython3",
   "version": "3.12.4"
  },
  "orig_nbformat": 4
 },
 "nbformat": 4,
 "nbformat_minor": 2
}
