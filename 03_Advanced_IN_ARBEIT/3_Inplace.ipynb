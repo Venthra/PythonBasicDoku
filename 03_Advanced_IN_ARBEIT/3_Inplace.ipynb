{
 "cells": [
  {
   "cell_type": "code",
   "execution_count": 284,
   "metadata": {},
   "outputs": [],
   "source": [
    "import copy\n",
    "from typing import Any"
   ]
  },
  {
   "cell_type": "code",
   "execution_count": 285,
   "metadata": {},
   "outputs": [],
   "source": [
    "def print_memory_address(var: Any) -> None:\n",
    "    print(hex(id(var) % 0xFFFF))"
   ]
  },
  {
   "cell_type": "markdown",
   "metadata": {},
   "source": [
    "## In-Place Functions\n",
    "> Ein Attribut eines übergebenen Objektes, wird aus einer Funktion heraus direkt beeinflusst."
   ]
  },
  {
   "cell_type": "markdown",
   "metadata": {},
   "source": [
    "### Immutable Types\n"
   ]
  },
  {
   "cell_type": "code",
   "execution_count": 286,
   "metadata": {},
   "outputs": [
    {
     "name": "stdout",
     "output_type": "stream",
     "text": [
      "0xebbf\n",
      "0xebff\n",
      "12\n"
     ]
    }
   ],
   "source": [
    "my_number = 10\n",
    "increment = 2\n",
    "\n",
    "print_memory_address(my_number)\n",
    "my_number = my_number + increment\n",
    "print_memory_address(my_number)\n",
    "\n",
    "print(my_number)"
   ]
  },
  {
   "cell_type": "code",
   "execution_count": 287,
   "metadata": {},
   "outputs": [
    {
     "name": "stdout",
     "output_type": "stream",
     "text": [
      "0xebbf\n",
      "0xebff\n",
      "12\n"
     ]
    }
   ],
   "source": [
    "my_number2 = 10\n",
    "increment2 = 2\n",
    "\n",
    "print_memory_address(my_number2)\n",
    "my_number2 += increment2\n",
    "print_memory_address(my_number2)\n",
    "\n",
    "print(my_number2)"
   ]
  },
  {
   "cell_type": "markdown",
   "metadata": {},
   "source": [
    "### Mutable Types"
   ]
  },
  {
   "cell_type": "code",
   "execution_count": 288,
   "metadata": {},
   "outputs": [],
   "source": [
    "def inc_list(lst: list[int], inc_value: int) -> list[int]:\n",
    "\n",
    "    for value in lst:\n",
    "        value = value + inc_value\n",
    "    return lst"
   ]
  },
  {
   "cell_type": "code",
   "execution_count": 289,
   "metadata": {},
   "outputs": [
    {
     "name": "stdout",
     "output_type": "stream",
     "text": [
      "[1, 2, 3]\n",
      "0x1e09\n",
      "0xea9f\n",
      "0xea9f\n",
      "0x1e09\n",
      "[1, 2, 3]\n"
     ]
    }
   ],
   "source": [
    "my_list = [1, 2, 3]\n",
    "increment = 2\n",
    "print(my_list)\n",
    "print_memory_address(my_list)\n",
    "print_memory_address(my_list[0])\n",
    "\n",
    "my_list = inc_list(my_list, increment)\n",
    "\n",
    "print_memory_address(my_list[0])\n",
    "print_memory_address(my_list)\n",
    "print(my_list)"
   ]
  },
  {
   "cell_type": "code",
   "execution_count": 290,
   "metadata": {},
   "outputs": [],
   "source": [
    "def inc_list(lst: list[int], inc_value: int) -> None:\n",
    "\n",
    "    for idx in range(len(lst)):\n",
    "        lst[idx] = lst[idx] + inc_value"
   ]
  },
  {
   "cell_type": "code",
   "execution_count": 291,
   "metadata": {},
   "outputs": [
    {
     "name": "stdout",
     "output_type": "stream",
     "text": [
      "[1, 2, 3]\n",
      "0x3f86\n",
      "0xea9f\n",
      "0xeadf\n",
      "0x3f86\n",
      "[3, 4, 5]\n"
     ]
    }
   ],
   "source": [
    "my_list2 = [1, 2, 3]\n",
    "increment2 = 2\n",
    "print(my_list2)\n",
    "\n",
    "print_memory_address(my_list2)\n",
    "print_memory_address(my_list2[0])\n",
    "\n",
    "inc_list(my_list2, increment2)\n",
    "\n",
    "print_memory_address(my_list2[0])\n",
    "print_memory_address(my_list2)\n",
    "\n",
    "print(my_list2)"
   ]
  },
  {
   "cell_type": "markdown",
   "metadata": {},
   "source": [
    "### In-Place on Mutable Types\n"
   ]
  },
  {
   "cell_type": "code",
   "execution_count": 292,
   "metadata": {},
   "outputs": [
    {
     "name": "stdout",
     "output_type": "stream",
     "text": [
      "[1, 2]\n",
      "0xe68c\n",
      "0x4eca\n",
      "\n",
      "[1, 2, 3, 4]\n",
      "0x22c9\n",
      "0x4eca\n"
     ]
    }
   ],
   "source": [
    "def concat_lists(l1: list, l2: list) -> list:\n",
    "    return l1 + l2\n",
    "\n",
    "l1 = [1, 2]\n",
    "l2 = [3, 4]\n",
    "\n",
    "print(l1)\n",
    "print_memory_address(l1)\n",
    "print_memory_address(l2)\n",
    "print(\"\")\n",
    "l1 = concat_lists(l1, l2)\n",
    "print(l1)\n",
    "print_memory_address(l1)\n",
    "print_memory_address(l2)"
   ]
  },
  {
   "cell_type": "code",
   "execution_count": 293,
   "metadata": {},
   "outputs": [
    {
     "name": "stdout",
     "output_type": "stream",
     "text": [
      "[1, 2]\n",
      "0x3706\n",
      "0xc185\n",
      "\n",
      "[1, 2, 3, 4]\n",
      "0x3706\n",
      "0xc185\n"
     ]
    }
   ],
   "source": [
    "def concat_lists_inplace(l1: list, l2: list) -> None:\n",
    "    l1 += l2\n",
    "\n",
    "l3 = [1, 2]\n",
    "l4 = [3, 4]\n",
    "\n",
    "print(l3)\n",
    "print_memory_address(l3)\n",
    "print_memory_address(l4)\n",
    "print(\"\")\n",
    "concat_lists_inplace(l3, l4)\n",
    "print(l3)\n",
    "print_memory_address(l3)\n",
    "print_memory_address(l4)"
   ]
  },
  {
   "cell_type": "markdown",
   "metadata": {},
   "source": [
    "## Shallow and Deep Copy\n"
   ]
  },
  {
   "cell_type": "code",
   "execution_count": 294,
   "metadata": {},
   "outputs": [
    {
     "name": "stdout",
     "output_type": "stream",
     "text": [
      "0x31c6\n",
      "0x9fca\n",
      "0xea9f\n",
      "[[1, 2], [3, 4]]\n",
      "\n",
      "0x31c6\n",
      "0x9fca\n",
      "0xebbf\n",
      "[[10, 2], [3, 4]]\n",
      "\n",
      "0x31c6\n",
      "0x544c\n",
      "0xea5f\n",
      "[[-1, -2], [3, 4]]\n"
     ]
    }
   ],
   "source": [
    "list1 = [[1, 2], [3, 4]]  # M[  M[IM,IM] , M[IM,IM]  ]\n",
    "\n",
    "print_memory_address(list1)\n",
    "print_memory_address(list1[0])\n",
    "print_memory_address(list1[0][0])\n",
    "print(list1)\n",
    "print(\"\")\n",
    "\n",
    "list1[0][0] = 10\n",
    "\n",
    "print_memory_address(list1)\n",
    "print_memory_address(list1[0])\n",
    "print_memory_address(list1[0][0])\n",
    "print(list1)\n",
    "print(\"\")\n",
    "\n",
    "list1[0] = [-1, -2]\n",
    "\n",
    "print_memory_address(list1)\n",
    "print_memory_address(list1[0])\n",
    "print_memory_address(list1[0][0])\n",
    "print(list1)"
   ]
  },
  {
   "cell_type": "markdown",
   "metadata": {},
   "source": [
    "### (Shallow) Copy\n",
    "> Copiert und erzeugt neue Referenz nur auf oberster Ebene!"
   ]
  },
  {
   "cell_type": "code",
   "execution_count": 295,
   "metadata": {},
   "outputs": [
    {
     "name": "stdout",
     "output_type": "stream",
     "text": [
      "0x8086\n",
      "0x544c\n",
      "[[-1, -2], [3, 4]]\n"
     ]
    }
   ],
   "source": [
    "list2 = copy.copy(list1)\n",
    "\n",
    "print_memory_address(list2)\n",
    "print_memory_address(list2[0])\n",
    "print(list2)"
   ]
  },
  {
   "cell_type": "code",
   "execution_count": 296,
   "metadata": {},
   "outputs": [
    {
     "name": "stdout",
     "output_type": "stream",
     "text": [
      "0x8086\n",
      "0x544c\n",
      "[[13, -2], [3, 4]]\n",
      "\n",
      "0x31c6\n",
      "0x544c\n",
      "[[13, -2], [3, 4]]\n"
     ]
    }
   ],
   "source": [
    "list2[0][0] = 13\n",
    "\n",
    "print_memory_address(list2)\n",
    "print_memory_address(list2[0])\n",
    "print(list2)\n",
    "print(\"\")\n",
    "print_memory_address(list1)\n",
    "print_memory_address(list1[0])\n",
    "print(list1)"
   ]
  },
  {
   "cell_type": "markdown",
   "metadata": {},
   "source": [
    "#### Deep Copy\n",
    "> Copiert und erzeugt neue Referenzen bis zur untersten Ebene.\n"
   ]
  },
  {
   "cell_type": "code",
   "execution_count": 297,
   "metadata": {},
   "outputs": [
    {
     "name": "stdout",
     "output_type": "stream",
     "text": [
      "0xc64a\n",
      "0x5b8a\n",
      "[[13, -2], [3, 4]]\n"
     ]
    }
   ],
   "source": [
    "list3 = copy.deepcopy(list1)\n",
    "\n",
    "print_memory_address(list3)\n",
    "print_memory_address(list3[0])\n",
    "print(list3)"
   ]
  },
  {
   "cell_type": "code",
   "execution_count": 298,
   "metadata": {},
   "outputs": [
    {
     "name": "stdout",
     "output_type": "stream",
     "text": [
      "0xc64a\n",
      "0x5b8a\n",
      "[[42, -2], [3, 4]]\n",
      "\n",
      "0x31c6\n",
      "0x544c\n",
      "[[13, -2], [3, 4]]\n"
     ]
    }
   ],
   "source": [
    "list3[0][0] = 42\n",
    "\n",
    "print_memory_address(list3)\n",
    "print_memory_address(list3[0])\n",
    "print(list3)\n",
    "print(\"\")\n",
    "print_memory_address(list1)\n",
    "print_memory_address(list1[0])\n",
    "print(list1)"
   ]
  }
 ],
 "metadata": {
  "interpreter": {
   "hash": "ef4ce19910938c421491e84375c43d450a079a1a865d40a0bc82f335363ab876"
  },
  "kernelspec": {
   "display_name": "Python 3.10.4 ('pyUdemy')",
   "language": "python",
   "name": "python3"
  },
  "language_info": {
   "codemirror_mode": {
    "name": "ipython",
    "version": 3
   },
   "file_extension": ".py",
   "mimetype": "text/x-python",
   "name": "python",
   "nbconvert_exporter": "python",
   "pygments_lexer": "ipython3",
   "version": "3.12.4"
  },
  "orig_nbformat": 2
 },
 "nbformat": 4,
 "nbformat_minor": 2
}
