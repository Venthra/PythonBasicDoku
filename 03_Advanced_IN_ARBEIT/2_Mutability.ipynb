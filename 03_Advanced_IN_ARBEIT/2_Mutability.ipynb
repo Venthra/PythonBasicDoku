{
 "cells": [
  {
   "cell_type": "code",
   "execution_count": 34,
   "metadata": {},
   "outputs": [],
   "source": [
    "from typing import Any"
   ]
  },
  {
   "cell_type": "code",
   "execution_count": 35,
   "metadata": {},
   "outputs": [],
   "source": [
    "def print_memory_address(var: Any) -> None:\n",
    "    print(hex(id(var)))"
   ]
  },
  {
   "cell_type": "markdown",
   "metadata": {},
   "source": [
    "### Mutability (Veränderlichkeit)\n",
    "(Ist das Verhalten eines bereits erstellten Objekts bei Attributsänderungen)\n"
   ]
  },
  {
   "cell_type": "markdown",
   "metadata": {},
   "source": [
    "-   Immutable types: int, float, bool, str, tuple, None (Objekte bleiben nicht an Speicheradresse)\n",
    "-   Mutable types: list, dict, set, etc. (Objekte bleiben an Speicheradresse)\n"
   ]
  },
  {
   "cell_type": "code",
   "execution_count": 36,
   "metadata": {},
   "outputs": [
    {
     "name": "stdout",
     "output_type": "stream",
     "text": [
      "0x7fff30e83ed8\n",
      "0x7fff30e83c58\n"
     ]
    }
   ],
   "source": [
    "# Int\n",
    "my_int = 42\n",
    "print_memory_address(my_int)\n",
    "\n",
    "my_int = 22\n",
    "print_memory_address(my_int)\n"
   ]
  },
  {
   "cell_type": "code",
   "execution_count": 37,
   "metadata": {},
   "outputs": [
    {
     "name": "stdout",
     "output_type": "stream",
     "text": [
      "[1, 2, 3]\n",
      "0x1e751dc6fc0\n",
      "[-1, 2, 3]\n",
      "0x1e751dc6fc0\n",
      "[-1, 2, 3, 4]\n",
      "0x1e751dc6fc0\n"
     ]
    }
   ],
   "source": [
    "# List\n",
    "my_list = [1, 2, 3]\n",
    "print(my_list)\n",
    "print_memory_address(my_list)\n",
    "\n",
    "my_list[0] = -1\n",
    "print(my_list)\n",
    "print_memory_address(my_list)\n",
    "\n",
    "my_list.append(4)\n",
    "print(my_list)\n",
    "print_memory_address(my_list)\n"
   ]
  },
  {
   "cell_type": "code",
   "execution_count": 38,
   "metadata": {},
   "outputs": [
    {
     "name": "stdout",
     "output_type": "stream",
     "text": [
      "(1, 2, 3)\n",
      "0x1e751e32c80\n",
      "(-1, 2, 3)\n",
      "0x1e751df2800\n"
     ]
    }
   ],
   "source": [
    "#Tuple\n",
    "my_tuple = (1, 2, 3)\n",
    "print(my_tuple)\n",
    "print_memory_address(my_tuple)\n",
    "\n",
    "my_tuple = (-1, my_tuple[1], my_tuple[2])\n",
    "print(my_tuple)\n",
    "print_memory_address(my_tuple)\n"
   ]
  }
 ],
 "metadata": {
  "file_extension": ".py",
  "interpreter": {
   "hash": "ef4ce19910938c421491e84375c43d450a079a1a865d40a0bc82f335363ab876"
  },
  "kernelspec": {
   "display_name": "Python 3.10.4 ('pyUdemy')",
   "language": "python",
   "name": "python3"
  },
  "language_info": {
   "codemirror_mode": {
    "name": "ipython",
    "version": 3
   },
   "file_extension": ".py",
   "mimetype": "text/x-python",
   "name": "python",
   "nbconvert_exporter": "python",
   "pygments_lexer": "ipython3",
   "version": "3.12.4"
  },
  "mimetype": "text/x-python",
  "name": "python",
  "npconvert_exporter": "python",
  "orig_nbformat": 2,
  "pygments_lexer": "ipython3",
  "version": 3
 },
 "nbformat": 4,
 "nbformat_minor": 2
}
