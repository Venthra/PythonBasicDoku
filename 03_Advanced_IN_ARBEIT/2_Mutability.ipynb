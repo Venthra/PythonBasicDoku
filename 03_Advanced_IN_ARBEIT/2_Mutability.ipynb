{
 "cells": [
  {
   "cell_type": "markdown",
   "metadata": {},
   "source": [
    "# Mutability\n",
    "(Is the behavior of an object that has already been created, with attribute changes)\n"
   ]
  },
  {
   "cell_type": "markdown",
   "metadata": {},
   "source": [
    "-   [Immutable types] > int, float, bool, str, tuple, None\n",
    "-   [Mutable types] > list, dict, set, etc.\n"
   ]
  },
  {
   "cell_type": "code",
   "execution_count": 1,
   "metadata": {},
   "outputs": [],
   "source": [
    "from typing import Any"
   ]
  },
  {
   "cell_type": "code",
   "execution_count": 2,
   "metadata": {},
   "outputs": [],
   "source": [
    "def print_memory_address(var: Any) -> None:     # Print the memory address to which reference is made.\n",
    "    print(hex(id(var)))"
   ]
  },
  {
   "cell_type": "code",
   "execution_count": null,
   "metadata": {},
   "outputs": [],
   "source": [
    "my_int = 42\n",
    "my_int = 22\n",
    "\n",
    "print_memory_address(my_int)\n",
    "print_memory_address(my_int)"
   ]
  },
  {
   "cell_type": "code",
   "execution_count": null,
   "metadata": {},
   "outputs": [],
   "source": [
    "# List\n",
    "my_list = [1, 2, 3]\n",
    "print(my_list)\n",
    "print_memory_address(my_list)\n",
    "\n",
    "my_list[0] = -1\n",
    "print(my_list)\n",
    "print_memory_address(my_list)\n",
    "\n",
    "my_list.append(4)\n",
    "print(my_list)\n",
    "print_memory_address(my_list)\n"
   ]
  },
  {
   "cell_type": "code",
   "execution_count": null,
   "metadata": {},
   "outputs": [],
   "source": [
    "#Tuple\n",
    "my_tuple = (1, 2, 3)\n",
    "print(my_tuple)\n",
    "print_memory_address(my_tuple)\n",
    "\n",
    "my_tuple = (-1, my_tuple[1], my_tuple[2])\n",
    "print(my_tuple)\n",
    "print_memory_address(my_tuple)\n"
   ]
  }
 ],
 "metadata": {
  "file_extension": ".py",
  "kernelspec": {
   "display_name": "base",
   "language": "python",
   "name": "python3"
  },
  "language_info": {
   "codemirror_mode": {
    "name": "ipython",
    "version": 3
   },
   "file_extension": ".py",
   "mimetype": "text/x-python",
   "name": "python",
   "nbconvert_exporter": "python",
   "pygments_lexer": "ipython3",
   "version": "3.12.4"
  },
  "mimetype": "text/x-python",
  "name": "python",
  "npconvert_exporter": "python",
  "orig_nbformat": 2,
  "pygments_lexer": "ipython3",
  "version": 3
 },
 "nbformat": 4,
 "nbformat_minor": 2
}
