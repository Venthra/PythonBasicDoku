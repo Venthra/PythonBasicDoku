{
 "cells": [
  {
   "cell_type": "markdown",
   "metadata": {},
   "source": [
    "# Memory References\n"
   ]
  },
  {
   "cell_type": "code",
   "execution_count": 1,
   "metadata": {},
   "outputs": [],
   "source": [
    "import random\n",
    "from typing import Any\n",
    "\n",
    "random.seed(42)"
   ]
  },
  {
   "cell_type": "code",
   "execution_count": 2,
   "metadata": {},
   "outputs": [],
   "source": [
    "def print_memory_address(var: Any) -> None:\n",
    "    print(hex(id(var)))"
   ]
  },
  {
   "cell_type": "markdown",
   "metadata": {},
   "source": [
    "### Variable Memory References\n",
    "> Many variables are already located at certain memory addresses when the program is started.\n",
    "> (Ineger ~ 0 - 200)"
   ]
  },
  {
   "cell_type": "code",
   "execution_count": null,
   "metadata": {},
   "outputs": [],
   "source": [
    "my_value = 10\n",
    "my_value2 = 12\n",
    "print_memory_address(my_value)\n",
    "print_memory_address(my_value2)"
   ]
  },
  {
   "cell_type": "code",
   "execution_count": null,
   "metadata": {},
   "outputs": [],
   "source": [
    "my_int1 = 42\n",
    "my_int2 = 42\n",
    "my_int3 = 42\n",
    "print_memory_address(my_int1)\n",
    "print_memory_address(my_int2)\n",
    "print_memory_address(my_int3)"
   ]
  },
  {
   "cell_type": "code",
   "execution_count": null,
   "metadata": {},
   "outputs": [],
   "source": [
    "my_bool1 = True\n",
    "my_bool2 = True\n",
    "my_bool3 = False\n",
    "my_bool4 = False\n",
    "print_memory_address(my_bool1)\n",
    "print_memory_address(my_bool2)\n",
    "print_memory_address(my_bool3)\n",
    "print_memory_address(my_bool4)"
   ]
  },
  {
   "cell_type": "code",
   "execution_count": null,
   "metadata": {},
   "outputs": [],
   "source": [
    "my_none1 = None\n",
    "my_none2 = None\n",
    "print_memory_address(my_none1)\n",
    "print_memory_address(my_none2)"
   ]
  },
  {
   "cell_type": "code",
   "execution_count": null,
   "metadata": {},
   "outputs": [],
   "source": [
    "my_float1 = 42.0\n",
    "my_float2 = 42.0\n",
    "my_float3 = 42.0\n",
    "print_memory_address(my_float1)\n",
    "print_memory_address(my_float2)\n",
    "print_memory_address(my_float3)"
   ]
  },
  {
   "cell_type": "markdown",
   "metadata": {},
   "source": [
    "### List (References)\n"
   ]
  },
  {
   "cell_type": "code",
   "execution_count": null,
   "metadata": {},
   "outputs": [],
   "source": [
    "my_list1 = [1, 2, 3]\n",
    "\n",
    "my_list2 = my_list1\n",
    "print_memory_address(my_list1)\n",
    "print_memory_address(my_list2)\n",
    "\n",
    "my_list1[0] = -1\n",
    "print(my_list1)\n",
    "print(my_list2)"
   ]
  },
  {
   "cell_type": "code",
   "execution_count": 9,
   "metadata": {},
   "outputs": [],
   "source": [
    "def square_list(lst: list[int]) -> list[int]:\n",
    "    print_memory_address(lst)\n",
    "    lst = [val**2 for val in lst]\n",
    "    print_memory_address(lst)\n",
    "    return lst"
   ]
  },
  {
   "cell_type": "code",
   "execution_count": null,
   "metadata": {},
   "outputs": [],
   "source": [
    "my_list2 = [1, 2, 3]\n",
    "\n",
    "print_memory_address(my_list2)\n",
    "print(my_list2)\n",
    "print(\"\")\n",
    "\n",
    "my_list2 = square_list(my_list2)\n",
    "\n",
    "print(\"\")\n",
    "print_memory_address(my_list2)\n",
    "print(my_list2)"
   ]
  }
 ],
 "metadata": {
  "file_extension": ".py",
  "kernelspec": {
   "display_name": "base",
   "language": "python",
   "name": "python3"
  },
  "language_info": {
   "codemirror_mode": {
    "name": "ipython",
    "version": 3
   },
   "file_extension": ".py",
   "mimetype": "text/x-python",
   "name": "python",
   "nbconvert_exporter": "python",
   "pygments_lexer": "ipython3",
   "version": "3.12.4"
  },
  "mimetype": "text/x-python",
  "name": "python",
  "npconvert_exporter": "python",
  "orig_nbformat": 2,
  "pygments_lexer": "ipython3",
  "version": 3
 },
 "nbformat": 4,
 "nbformat_minor": 2
}
