{
 "cells": [
  {
   "cell_type": "markdown",
   "metadata": {},
   "source": [
    "# In-Place Functions\n",
    "> An attribute of a transferred object is influenced directly from a function."
   ]
  },
  {
   "cell_type": "code",
   "execution_count": 1,
   "metadata": {},
   "outputs": [],
   "source": [
    "import copy\n",
    "from typing import Any"
   ]
  },
  {
   "cell_type": "code",
   "execution_count": 2,
   "metadata": {},
   "outputs": [],
   "source": [
    "def print_memory_address(var: Any) -> None:\n",
    "    print(hex(id(var) % 0xFFFF))"
   ]
  },
  {
   "cell_type": "markdown",
   "metadata": {},
   "source": [
    "### Immutable Types\n"
   ]
  },
  {
   "cell_type": "code",
   "execution_count": null,
   "metadata": {},
   "outputs": [],
   "source": [
    "my_number = 10\n",
    "increment = 2\n",
    "\n",
    "print_memory_address(my_number)\n",
    "my_number = my_number + increment\n",
    "print_memory_address(my_number)\n",
    "\n",
    "print(my_number)"
   ]
  },
  {
   "cell_type": "code",
   "execution_count": null,
   "metadata": {},
   "outputs": [],
   "source": [
    "my_number2 = 10\n",
    "increment2 = 2\n",
    "\n",
    "print_memory_address(my_number2)\n",
    "my_number2 += increment2\n",
    "print_memory_address(my_number2)\n",
    "\n",
    "print(my_number2)"
   ]
  },
  {
   "cell_type": "markdown",
   "metadata": {},
   "source": [
    "### Mutable Types"
   ]
  },
  {
   "cell_type": "code",
   "execution_count": 5,
   "metadata": {},
   "outputs": [],
   "source": [
    "def inc_list(lst: list[int], inc_value: int) -> list[int]:\n",
    "\n",
    "    for value in lst:\n",
    "        value = value + inc_value\n",
    "    return lst"
   ]
  },
  {
   "cell_type": "code",
   "execution_count": null,
   "metadata": {},
   "outputs": [],
   "source": [
    "my_list = [1, 2, 3]\n",
    "increment = 2\n",
    "print(my_list)\n",
    "print_memory_address(my_list)\n",
    "print_memory_address(my_list[0])\n",
    "\n",
    "my_list = inc_list(my_list, increment)\n",
    "\n",
    "print_memory_address(my_list[0])\n",
    "print_memory_address(my_list)\n",
    "print(my_list)"
   ]
  },
  {
   "cell_type": "code",
   "execution_count": 7,
   "metadata": {},
   "outputs": [],
   "source": [
    "def inc_list(lst: list[int], inc_value: int) -> None:\n",
    "\n",
    "    for idx in range(len(lst)):\n",
    "        lst[idx] = lst[idx] + inc_value"
   ]
  },
  {
   "cell_type": "code",
   "execution_count": null,
   "metadata": {},
   "outputs": [],
   "source": [
    "my_list2 = [1, 2, 3]\n",
    "increment2 = 2\n",
    "print(my_list2)\n",
    "\n",
    "print_memory_address(my_list2)\n",
    "print_memory_address(my_list2[0])\n",
    "\n",
    "inc_list(my_list2, increment2)\n",
    "\n",
    "print_memory_address(my_list2[0])\n",
    "print_memory_address(my_list2)\n",
    "\n",
    "print(my_list2)"
   ]
  },
  {
   "cell_type": "markdown",
   "metadata": {},
   "source": [
    "### In-Place on Mutable Types\n"
   ]
  },
  {
   "cell_type": "code",
   "execution_count": null,
   "metadata": {},
   "outputs": [],
   "source": [
    "def concat_lists(l1: list, l2: list) -> list:\n",
    "    return l1 + l2\n",
    "\n",
    "l1 = [1, 2]\n",
    "l2 = [3, 4]\n",
    "\n",
    "print(l1)\n",
    "print_memory_address(l1)\n",
    "print_memory_address(l2)\n",
    "print(\"\")\n",
    "l1 = concat_lists(l1, l2)\n",
    "print(l1)\n",
    "print_memory_address(l1)\n",
    "print_memory_address(l2)"
   ]
  },
  {
   "cell_type": "code",
   "execution_count": null,
   "metadata": {},
   "outputs": [],
   "source": [
    "def concat_lists_inplace(l1: list, l2: list) -> None:\n",
    "    l1 += l2\n",
    "\n",
    "l3 = [1, 2]\n",
    "l4 = [3, 4]\n",
    "\n",
    "print(l3)\n",
    "print_memory_address(l3)\n",
    "print_memory_address(l4)\n",
    "print(\"\")\n",
    "concat_lists_inplace(l3, l4)\n",
    "print(l3)\n",
    "print_memory_address(l3)\n",
    "print_memory_address(l4)"
   ]
  },
  {
   "cell_type": "markdown",
   "metadata": {},
   "source": [
    "# Shallow and Deep Copy\n"
   ]
  },
  {
   "cell_type": "code",
   "execution_count": null,
   "metadata": {},
   "outputs": [],
   "source": [
    "list1 = [[1, 2], [3, 4]]  # M[  M[IM,IM] , M[IM,IM]  ]\n",
    "\n",
    "print_memory_address(list1)\n",
    "print_memory_address(list1[0])\n",
    "print_memory_address(list1[0][0])\n",
    "print(list1)\n",
    "print(\"\")\n",
    "\n",
    "list1[0][0] = 10\n",
    "\n",
    "print_memory_address(list1)\n",
    "print_memory_address(list1[0])\n",
    "print_memory_address(list1[0][0])\n",
    "print(list1)\n",
    "print(\"\")\n",
    "\n",
    "list1[0] = [-1, -2]\n",
    "\n",
    "print_memory_address(list1)\n",
    "print_memory_address(list1[0])\n",
    "print_memory_address(list1[0][0])\n",
    "print(list1)"
   ]
  },
  {
   "cell_type": "markdown",
   "metadata": {},
   "source": [
    "### (Shallow) Copy\n",
    "> Copies and creates new reference at top level only!"
   ]
  },
  {
   "cell_type": "code",
   "execution_count": null,
   "metadata": {},
   "outputs": [],
   "source": [
    "list2 = copy.copy(list1)\n",
    "\n",
    "print_memory_address(list2)\n",
    "print_memory_address(list2[0])\n",
    "print(list2)"
   ]
  },
  {
   "cell_type": "code",
   "execution_count": null,
   "metadata": {},
   "outputs": [],
   "source": [
    "list2[0][0] = 13\n",
    "\n",
    "print_memory_address(list2)\n",
    "print_memory_address(list2[0])\n",
    "print(list2)\n",
    "print(\"\")\n",
    "print_memory_address(list1)\n",
    "print_memory_address(list1[0])\n",
    "print(list1)"
   ]
  },
  {
   "cell_type": "markdown",
   "metadata": {},
   "source": [
    "#### Deep Copy\n",
    "> Copies and creates new references down to the lowest level.\n"
   ]
  },
  {
   "cell_type": "code",
   "execution_count": null,
   "metadata": {},
   "outputs": [],
   "source": [
    "list3 = copy.deepcopy(list1)\n",
    "\n",
    "print_memory_address(list3)\n",
    "print_memory_address(list3[0])\n",
    "print(list3)"
   ]
  },
  {
   "cell_type": "code",
   "execution_count": null,
   "metadata": {},
   "outputs": [],
   "source": [
    "list3[0][0] = 42\n",
    "\n",
    "print_memory_address(list3)\n",
    "print_memory_address(list3[0])\n",
    "print(list3)\n",
    "print(\"\")\n",
    "print_memory_address(list1)\n",
    "print_memory_address(list1[0])\n",
    "print(list1)"
   ]
  }
 ],
 "metadata": {
  "kernelspec": {
   "display_name": "base",
   "language": "python",
   "name": "python3"
  },
  "language_info": {
   "codemirror_mode": {
    "name": "ipython",
    "version": 3
   },
   "file_extension": ".py",
   "mimetype": "text/x-python",
   "name": "python",
   "nbconvert_exporter": "python",
   "pygments_lexer": "ipython3",
   "version": "3.12.4"
  },
  "orig_nbformat": 2
 },
 "nbformat": 4,
 "nbformat_minor": 2
}
